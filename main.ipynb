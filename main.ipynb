{
 "cells": [
  {
   "cell_type": "code",
   "execution_count": 1,
   "metadata": {},
   "outputs": [],
   "source": [
    "import torch\n",
    "import gensim\n",
    "import implicit\n",
    "import numpy as np\n",
    "import pandas as pd\n",
    "import scipy.sparse as sp\n",
    "from tqdm import tqdm_notebook\n",
    "from IPython.display import clear_output\n",
    "from sklearn.model_selection import train_test_split\n",
    "\n",
    "import warnings\n",
    "warnings.filterwarnings(\"ignore\")\n",
    "\n",
    "import matplotlib.pyplot as plt\n",
    "%matplotlib inline"
   ]
  },
  {
   "cell_type": "markdown",
   "metadata": {},
   "source": [
    "# Paths"
   ]
  },
  {
   "cell_type": "code",
   "execution_count": 30,
   "metadata": {},
   "outputs": [],
   "source": [
    "FOLDER_PATH = \"./\""
   ]
  },
  {
   "cell_type": "markdown",
   "metadata": {},
   "source": [
    "# Load data"
   ]
  },
  {
   "cell_type": "code",
   "execution_count": 2,
   "metadata": {},
   "outputs": [
    {
     "data": {
      "text/html": [
       "<div>\n",
       "<style scoped>\n",
       "    .dataframe tbody tr th:only-of-type {\n",
       "        vertical-align: middle;\n",
       "    }\n",
       "\n",
       "    .dataframe tbody tr th {\n",
       "        vertical-align: top;\n",
       "    }\n",
       "\n",
       "    .dataframe thead th {\n",
       "        text-align: right;\n",
       "    }\n",
       "</style>\n",
       "<table border=\"1\" class=\"dataframe\">\n",
       "  <thead>\n",
       "    <tr style=\"text-align: right;\">\n",
       "      <th></th>\n",
       "      <th>userId</th>\n",
       "      <th>movieId</th>\n",
       "      <th>rating</th>\n",
       "      <th>timestamp</th>\n",
       "    </tr>\n",
       "  </thead>\n",
       "  <tbody>\n",
       "    <tr>\n",
       "      <td>0</td>\n",
       "      <td>1</td>\n",
       "      <td>2</td>\n",
       "      <td>3.5</td>\n",
       "      <td>1112486027</td>\n",
       "    </tr>\n",
       "    <tr>\n",
       "      <td>1</td>\n",
       "      <td>1</td>\n",
       "      <td>29</td>\n",
       "      <td>3.5</td>\n",
       "      <td>1112484676</td>\n",
       "    </tr>\n",
       "    <tr>\n",
       "      <td>2</td>\n",
       "      <td>1</td>\n",
       "      <td>32</td>\n",
       "      <td>3.5</td>\n",
       "      <td>1112484819</td>\n",
       "    </tr>\n",
       "    <tr>\n",
       "      <td>3</td>\n",
       "      <td>1</td>\n",
       "      <td>47</td>\n",
       "      <td>3.5</td>\n",
       "      <td>1112484727</td>\n",
       "    </tr>\n",
       "    <tr>\n",
       "      <td>4</td>\n",
       "      <td>1</td>\n",
       "      <td>50</td>\n",
       "      <td>3.5</td>\n",
       "      <td>1112484580</td>\n",
       "    </tr>\n",
       "  </tbody>\n",
       "</table>\n",
       "</div>"
      ],
      "text/plain": [
       "   userId  movieId  rating   timestamp\n",
       "0       1        2     3.5  1112486027\n",
       "1       1       29     3.5  1112484676\n",
       "2       1       32     3.5  1112484819\n",
       "3       1       47     3.5  1112484727\n",
       "4       1       50     3.5  1112484580"
      ]
     },
     "execution_count": 2,
     "metadata": {},
     "output_type": "execute_result"
    }
   ],
   "source": [
    "df = pd.read_csv(f\"{FOLDER_PATH}ratings.csv\")\n",
    "df.head()"
   ]
  },
  {
   "cell_type": "markdown",
   "metadata": {},
   "source": [
    "# Preprocessing data"
   ]
  },
  {
   "cell_type": "code",
   "execution_count": 3,
   "metadata": {},
   "outputs": [
    {
     "name": "stdout",
     "output_type": "stream",
     "text": [
      "Number of users who rated less than 20 movies: 0.00%\n"
     ]
    }
   ],
   "source": [
    "tmp = np.sum(df.userId.value_counts() < 20) / len(df) * 100\n",
    "print(f\"Number of users who rated less than 20 movies: {tmp:.2f}%\")"
   ]
  },
  {
   "cell_type": "code",
   "execution_count": 4,
   "metadata": {},
   "outputs": [
    {
     "name": "stdout",
     "output_type": "stream",
     "text": [
      "Number of movies rated by less than 20 users: 0.07%\n"
     ]
    }
   ],
   "source": [
    "tmp = np.sum(df.movieId.value_counts() < 20) / len(df) * 100\n",
    "print(f\"Number of movies rated by less than 20 users: {tmp:.2f}%\")"
   ]
  },
  {
   "cell_type": "code",
   "execution_count": 5,
   "metadata": {},
   "outputs": [
    {
     "name": "stdout",
     "output_type": "stream",
     "text": [
      "Number of movies rated by less than 20 users: 0.00%\n"
     ]
    }
   ],
   "source": [
    "movies_to_remove = set(np.unique(df.movieId)[(df.movieId.value_counts() < 20).sort_index()])\n",
    "df.movieId = df.movieId.apply(lambda x: np.nan if x in movies_to_remove else x)\n",
    "df.dropna(inplace=True)\n",
    "df.movieId = df.movieId.astype(int)\n",
    "\n",
    "tmp = np.sum(df.movieId.value_counts() < 20) / len(df) * 100\n",
    "print(f\"Number of movies rated by less than 20 users: {tmp:.2f}%\")"
   ]
  },
  {
   "cell_type": "code",
   "execution_count": 6,
   "metadata": {},
   "outputs": [
    {
     "name": "stdout",
     "output_type": "stream",
     "text": [
      "Number of ratings using each user only once: 0.01%\n"
     ]
    }
   ],
   "source": [
    "tmp = np.sum(df.groupby(by=[\"userId\", \"rating\"]).count()[\"movieId\"] < 2) / len(df)\n",
    "print(f\"Number of ratings using each user only once: {tmp:.2f}%\")"
   ]
  },
  {
   "cell_type": "code",
   "execution_count": 7,
   "metadata": {
    "scrolled": true
   },
   "outputs": [
    {
     "name": "stdout",
     "output_type": "stream",
     "text": [
      "Number of ratings using each user only once: 0.00%\n"
     ]
    }
   ],
   "source": [
    "dist = df.groupby(by=[\"userId\", \"rating\"]).count()[\"movieId\"]\n",
    "df.set_index(keys=[\"userId\",\"rating\"], inplace=True)\n",
    "df.drop(dist.index[dist < 2], inplace=True)\n",
    "df.reset_index(inplace=True)\n",
    "\n",
    "tmp = np.sum(df.groupby(by=[\"userId\", \"rating\"]).count()[\"movieId\"] < 2) / len(df)\n",
    "print(f\"Number of ratings using each user only once: {tmp:.2f}%\")"
   ]
  },
  {
   "cell_type": "code",
   "execution_count": 8,
   "metadata": {},
   "outputs": [],
   "source": [
    "train, val = train_test_split(df, test_size=0.2, random_state=42, stratify=df[[\"userId\",\"rating\"]])"
   ]
  },
  {
   "cell_type": "markdown",
   "metadata": {},
   "source": [
    "# Train ImplicitALS"
   ]
  },
  {
   "cell_type": "code",
   "execution_count": 9,
   "metadata": {},
   "outputs": [],
   "source": [
    "def ndcg_k(relevance, k=10):\n",
    "    denominator = np.log2(np.arange(2, k + 2))  \n",
    "    return np.sum(relevance[:k] / denominator) / np.sum(1 / denominator)"
   ]
  },
  {
   "cell_type": "code",
   "execution_count": 10,
   "metadata": {},
   "outputs": [],
   "source": [
    "df = df.sort_values(\"rating\", ascending=False)"
   ]
  },
  {
   "cell_type": "code",
   "execution_count": 11,
   "metadata": {},
   "outputs": [],
   "source": [
    "movie_user_data = sp.csr_matrix((train.values[:,1], (train.values[:,2].astype(int),\n",
    "                                                     train.values[:,0].astype(int))))"
   ]
  },
  {
   "cell_type": "code",
   "execution_count": 29,
   "metadata": {},
   "outputs": [],
   "source": [
    "als_model = implicit.als.AlternatingLeastSquares(factors=128, calculate_training_loss=True)"
   ]
  },
  {
   "cell_type": "code",
   "execution_count": 13,
   "metadata": {},
   "outputs": [
    {
     "data": {
      "application/vnd.jupyter.widget-view+json": {
       "model_id": "482edaa341794c3086ce81bb1a72b10c",
       "version_major": 2,
       "version_minor": 0
      },
      "text/plain": [
       "HBox(children=(IntProgress(value=0, max=15), HTML(value='')))"
      ]
     },
     "metadata": {},
     "output_type": "display_data"
    },
    {
     "name": "stdout",
     "output_type": "stream",
     "text": [
      "\n"
     ]
    }
   ],
   "source": [
    "als_model.fit(movie_user_data, show_progress=True)"
   ]
  },
  {
   "cell_type": "code",
   "execution_count": 14,
   "metadata": {},
   "outputs": [
    {
     "data": {
      "application/vnd.jupyter.widget-view+json": {
       "model_id": "b8354371e0704c7ca02baade76993e2c",
       "version_major": 2,
       "version_minor": 0
      },
      "text/plain": [
       "HBox(children=(IntProgress(value=0, max=1000), HTML(value='')))"
      ]
     },
     "metadata": {},
     "output_type": "display_data"
    },
    {
     "name": "stdout",
     "output_type": "stream",
     "text": [
      "\n"
     ]
    }
   ],
   "source": [
    "N_USERS = 1000\n",
    "ndcg_1, ndcg_10 = [], []\n",
    "movie_items = movie_user_data.T\n",
    "\n",
    "for user in tqdm_notebook(df.userId.unique()[:N_USERS]):\n",
    "    relevance = []\n",
    "    pred_recommendations = als_model.recommend(user, movie_items, N=10)\n",
    "    ratings = df[df.userId == user][:10].rating.unique()\n",
    "    for rating in ratings:\n",
    "        equal_movies = df[(df.userId == user) & (df.rating == rating)].movieId.values\n",
    "        for _ in enumerate(equal_movies):\n",
    "            if pred_recommendations[len(relevance)][0] in equal_movies:\n",
    "                relevance.append(1)\n",
    "            else:\n",
    "                relevance.append(0)\n",
    "            if len(relevance) == 10:\n",
    "                break\n",
    "    ndcg_1.append(ndcg_k(relevance, 1))\n",
    "    ndcg_10.append(ndcg_k(relevance, 10))"
   ]
  },
  {
   "cell_type": "code",
   "execution_count": 15,
   "metadata": {},
   "outputs": [
    {
     "name": "stdout",
     "output_type": "stream",
     "text": [
      "NDCG@1 = 0.38, NDCG@10 = 0.36 calculated on 1000 users\n"
     ]
    }
   ],
   "source": [
    "print(f\"NDCG@1 = {np.mean(ndcg_1):.2f}, NDCG@10 = {np.mean(ndcg_10):.2f} calculated on {N_USERS} users\")"
   ]
  },
  {
   "cell_type": "markdown",
   "metadata": {},
   "source": [
    "# Word2Vec"
   ]
  },
  {
   "cell_type": "code",
   "execution_count": 16,
   "metadata": {},
   "outputs": [
    {
     "data": {
      "application/vnd.jupyter.widget-view+json": {
       "model_id": "3a9617e2cf544c61a2cb08e2449783b5",
       "version_major": 2,
       "version_minor": 0
      },
      "text/plain": [
       "HBox(children=(IntProgress(value=0, max=138493), HTML(value='')))"
      ]
     },
     "metadata": {},
     "output_type": "display_data"
    },
    {
     "name": "stdout",
     "output_type": "stream",
     "text": [
      "\n"
     ]
    }
   ],
   "source": [
    "w2v_train = train.sort_values(by=[\"userId\",\"timestamp\"]).reset_index(drop=True)\n",
    "w2v_train.movieId = w2v_train.movieId.astype('str')\n",
    "sequences = [w2v_train[w2v_train.userId == userid].movieId.tolist()\n",
    "             for userid in tqdm_notebook(w2v_train.userId.unique())]"
   ]
  },
  {
   "cell_type": "code",
   "execution_count": 17,
   "metadata": {},
   "outputs": [],
   "source": [
    "word2vec = gensim.models.Word2Vec(sequences, size=128, window=5)"
   ]
  },
  {
   "cell_type": "code",
   "execution_count": 18,
   "metadata": {},
   "outputs": [],
   "source": [
    "NUMBER_NEIGHBORS = 5\n",
    "n_movies = df.movieId.max()\n",
    "movieIds = np.unique(df.movieId)\n",
    "topk_cosines = np.zeros((n_movies + 1, NUMBER_NEIGHBORS))\n",
    "topk_movieIds = np.zeros((n_movies + 1, NUMBER_NEIGHBORS))\n",
    "for movieId in movieIds:\n",
    "    for idx, movieId_cos in enumerate(word2vec.wv.most_similar(str(movieId), topn=NUMBER_NEIGHBORS)):\n",
    "        topk_cosines[movieId, idx] = movieId_cos[1]\n",
    "        topk_movieIds[movieId, idx] = int(movieId_cos[0])    "
   ]
  },
  {
   "cell_type": "markdown",
   "metadata": {},
   "source": [
    "# Model"
   ]
  },
  {
   "cell_type": "code",
   "execution_count": 19,
   "metadata": {},
   "outputs": [],
   "source": [
    "class UserMovieDataset(torch.utils.data.Dataset):\n",
    "\n",
    "    def __init__(self, df):\n",
    "        self.df = df\n",
    "\n",
    "    def __len__(self):\n",
    "        return len(self.df)\n",
    "\n",
    "    def __getitem__(self, idx):\n",
    "        return (torch.LongTensor([self.df.userId.iloc[idx]]),\n",
    "                torch.LongTensor([self.df.movieId.iloc[idx]]),\n",
    "                torch.FloatTensor([self.df.rating.iloc[idx]]))\n",
    "\n",
    "class SuperDuperMF(torch.nn.Module):\n",
    "    \n",
    "    def __init__(self, n_users, n_movies, n_factors=128, w2v_topk_cos=topk_cosines, w2v_topk_ids=topk_movieIds):\n",
    "        super().__init__()\n",
    "        self.user_factors = torch.nn.Embedding(n_users, n_factors, sparse=True)\n",
    "        self.movie_factors = torch.nn.Embedding(n_movies, n_factors, sparse=True)\n",
    "        \n",
    "        self.user_biases = torch.nn.Embedding(n_users, 1, sparse=True)\n",
    "        self.movie_biases = torch.nn.Embedding(n_movies, 1, sparse=True)\n",
    "        \n",
    "        self.topk_w2v_cos = torch.nn.Embedding.from_pretrained(torch.Tensor(w2v_topk_cos), sparse=True)\n",
    "        self.topk_w2v_cos.requires_grad = False\n",
    "        \n",
    "        self.topk_w2v_ids = torch.nn.Embedding.from_pretrained(torch.Tensor(w2v_topk_ids), sparse=True)\n",
    "        self.topk_w2v_ids.requires_grad = False\n",
    "        \n",
    "    def forward(self, users, movies):\n",
    "        pred_ratings = self.user_biases(users) + self.movie_biases(movies)\n",
    "        pred_ratings += (self.user_factors(users) * self.movie_factors(movies)).sum(dim=-1, keepdim=True)\n",
    "        topk_sim = self.topk_w2v_cos(movies).squeeze(dim=1)\n",
    "        topk_pred_sim = torch.cosine_similarity(self.movie_factors(self.topk_w2v_ids(movies).long()).squeeze(dim=1),\n",
    "                                                self.movie_factors(movies), dim=-1)\n",
    "        return pred_ratings.squeeze(dim=-1), topk_sim, topk_pred_sim\n",
    "    \n",
    "    def predict_rating(self, users, movies):        \n",
    "        return self.forward(users, movies)[0]\n",
    "    \n",
    "    def recommend_k_movies(self, users, k=1):\n",
    "        return torch.topk((model.user_factors(users) + model.user_biases(users)).squeeze() @ \n",
    "                          (model.movie_factors.weight.T + model.movie_factors.weight.T), k=k)[1]\n",
    "        "
   ]
  },
  {
   "cell_type": "code",
   "execution_count": 20,
   "metadata": {},
   "outputs": [],
   "source": [
    "N_FACTORS = 128\n",
    "BATCH_SIZE = 1024\n",
    "n_users = df.userId.max()\n",
    "n_movies = df.movieId.max()\n",
    "device = torch.device(\"cuda\" if torch.cuda.is_available() else \"cpu\")\n",
    "\n",
    "train_data = UserMovieDataset(train)\n",
    "val_data = UserMovieDataset(val)\n",
    "\n",
    "train_loader = torch.utils.data.DataLoader(train_data, batch_size=BATCH_SIZE, shuffle=True)\n",
    "val_loader = torch.utils.data.DataLoader(val_data, batch_size=BATCH_SIZE, shuffle=False)"
   ]
  },
  {
   "cell_type": "code",
   "execution_count": 21,
   "metadata": {},
   "outputs": [],
   "source": [
    "model = SuperDuperMF(n_users + 1, n_movies + 1, n_factors=N_FACTORS).to(device)"
   ]
  },
  {
   "cell_type": "code",
   "execution_count": 22,
   "metadata": {},
   "outputs": [],
   "source": [
    "ALPHA = 0.5\n",
    "NUM_EPOCHS = 60\n",
    "INITIAL_LR = 1e-3\n",
    "train_loss, val_loss = [], []\n",
    "best_loss, counter = np.inf, 0\n",
    "\n",
    "criterion = torch.nn.MSELoss().to(device)\n",
    "optimizer = torch.optim.SparseAdam(filter(lambda p: p.requires_grad, model.parameters()), lr=INITIAL_LR)"
   ]
  },
  {
   "cell_type": "code",
   "execution_count": 23,
   "metadata": {
    "scrolled": false
   },
   "outputs": [
    {
     "data": {
      "image/png": "[encoded data removed]",
      "text/plain": [
       "<Figure size 720x360 with 1 Axes>"
      ]
     },
     "metadata": {
      "needs_background": "light"
     },
     "output_type": "display_data"
    },
    {
     "name": "stdout",
     "output_type": "stream",
     "text": [
      "Epoch = 10\n",
      "Train loss = 2.233\tVal loss = 4.496\n",
      "Manual Interruption\n",
      "CPU times: user 4h 47min 7s, sys: 3min 6s, total: 4h 50min 13s\n",
      "Wall time: 4h 49min 18s\n"
     ]
    }
   ],
   "source": [
    "%%time\n",
    "\n",
    "try:\n",
    "    for epoch in range(NUM_EPOCHS):\n",
    "        counter += 1\n",
    "        model.train()\n",
    "        epoch_train_loss = []\n",
    "        for users, movies, ratings in train_loader:\n",
    "            users, movies, ratings = users.to(device), movies.to(device), ratings.to(device)\n",
    "            pred_ratings, topk_sim, topk_pred_sim = model(users, movies)                   \n",
    "            loss = criterion(pred_ratings, ratings) + ALPHA * criterion(topk_sim, topk_pred_sim)\n",
    "            optimizer.zero_grad()\n",
    "            loss.backward()\n",
    "            optimizer.step()            \n",
    "            epoch_train_loss.append(loss.item())\n",
    "        train_loss.append(np.mean(epoch_train_loss))\n",
    "        \n",
    "        model.eval()\n",
    "        epoch_val_loss = []\n",
    "        with torch.no_grad():\n",
    "            for users, movies, ratings in val_loader:\n",
    "                users, movies, ratings = users.to(device), movies.to(device), ratings.to(device)\n",
    "                pred_ratings, topk_sim, topk_pred_sim = model(users, movies)\n",
    "                loss = criterion(pred_ratings, ratings) + ALPHA * criterion(topk_sim, topk_pred_sim)\n",
    "                epoch_val_loss.append(loss.item())\n",
    "            val_loss.append(np.mean(epoch_val_loss))\n",
    "        \n",
    "        if val_loss[-1] < best_loss:\n",
    "            best_loss = val_loss[-1]\n",
    "            torch.save(model.state_dict(), \"best_model.pth\")\n",
    "            counter = 0\n",
    "            \n",
    "        if counter == 5:\n",
    "            print(f\"***Early stop happened on {len(train_loss)} epoch.***\")\n",
    "            break\n",
    "        \n",
    "        clear_output(True)\n",
    "        plt.figure(figsize=(10, 5))\n",
    "        plt.plot(train_loss, label='train_loss', c='b')\n",
    "        plt.plot(val_loss, label='val_loss', c='r')\n",
    "        plt.xlabel(\"Epochs\")\n",
    "        plt.ylabel(\"Loss\")\n",
    "        plt.legend()\n",
    "        plt.show()\n",
    "        \n",
    "        print(f\"Epoch = {len(train_loss)}\")\n",
    "        print(f\"Train loss = {train_loss[-1]:.3f}\\tVal loss = {val_loss[-1]:.3f}\")\n",
    "        \n",
    "    print(\"Training successfully finished!\")\n",
    "\n",
    "except KeyboardInterrupt:\n",
    "    print(\"Manual Interruption\")"
   ]
  },
  {
   "cell_type": "code",
   "execution_count": 27,
   "metadata": {},
   "outputs": [
    {
     "data": {
      "application/vnd.jupyter.widget-view+json": {
       "model_id": "d9a0a4863c454a819177f12347d8457b",
       "version_major": 2,
       "version_minor": 0
      },
      "text/plain": [
       "HBox(children=(IntProgress(value=0, max=1000), HTML(value='')))"
      ]
     },
     "metadata": {},
     "output_type": "display_data"
    },
    {
     "name": "stdout",
     "output_type": "stream",
     "text": [
      "\n"
     ]
    }
   ],
   "source": [
    "N_USERS = 1000\n",
    "ndcg_1, ndcg_10 = [], []\n",
    "for user in tqdm_notebook(df.userId.unique()[:N_USERS]):\n",
    "    relevance = []\n",
    "    pred_recommendations = model.recommend_k_movies(torch.LongTensor([user]).cuda(), k=10).cpu().numpy()\n",
    "    ratings = df[df.userId == user][:10].rating.unique()\n",
    "    for rating in ratings:\n",
    "        equal_movies = df[(df.userId == user) & (df.rating == rating)].movieId.values\n",
    "        for _ in enumerate(equal_movies):\n",
    "            if pred_recommendations[len(relevance)] in equal_movies:\n",
    "                relevance.append(1)\n",
    "            else:\n",
    "                relevance.append(0)\n",
    "            if len(relevance) == 10:\n",
    "                break\n",
    "    ndcg_1.append(ndcg_k(relevance, 1))\n",
    "    ndcg_10.append(ndcg_k(relevance, 10))"
   ]
  },
  {
   "cell_type": "code",
   "execution_count": 28,
   "metadata": {},
   "outputs": [
    {
     "name": "stdout",
     "output_type": "stream",
     "text": [
      "NDCG@1 = 0.00, NDCG@10 = 0.00 calculated on 1000 users\n"
     ]
    }
   ],
   "source": [
    "print(f\"NDCG@1 = {np.mean(ndcg_1):.2f}, NDCG@10 = {np.mean(ndcg_10):.2f} calculated on {N_USERS} users\")"
   ]
  }
 ],
 "metadata": {
  "kernelspec": {
   "display_name": "Python 3",
   "language": "python",
   "name": "python3"
  },
  "language_info": {
   "codemirror_mode": {
    "name": "ipython",
    "version": 3
   },
   "file_extension": ".py",
   "mimetype": "text/x-python",
   "name": "python",
   "nbconvert_exporter": "python",
   "pygments_lexer": "ipython3",
   "version": "3.7.4"
  }
 },
 "nbformat": 4,
 "nbformat_minor": 2
}
